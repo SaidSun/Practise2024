{
 "cells": [
  {
   "cell_type": "code",
   "execution_count": null,
   "id": "7b5db83e-35a9-4ba6-9568-0adb36b7762d",
   "metadata": {},
   "outputs": [],
   "source": [
    "import subprocess\n",
    "\n",
    "# Установка Minio (если еще не установлено)\n",
    "try:\n",
    "  subprocess.check_output(['minio', '--version'])\n",
    "except FileNotFoundError:\n",
    "  print(\"Minio не установлен. Установите его с помощью команды: pip install min>\n",
    "\n",
    "# Запуск Minio сервера\n",
    "minio_command = ['./minio', 'server', '/mnt/data', '--address', ':9000']\n",
    "subprocess.Popen(minio_command)\n",
    "print(\"Minio сервер запущен на порту 9000.\")"
   ]
  }
 ],
 "metadata": {
  "kernelspec": {
   "display_name": "Python 3 (ipykernel)",
   "language": "python",
   "name": "python3"
  },
  "language_info": {
   "codemirror_mode": {
    "name": "ipython",
    "version": 3
   },
   "file_extension": ".py",
   "mimetype": "text/x-python",
   "name": "python",
   "nbconvert_exporter": "python",
   "pygments_lexer": "ipython3",
   "version": "3.10.12"
  }
 },
 "nbformat": 4,
 "nbformat_minor": 5
}
