{
 "cells": [
  {
   "cell_type": "code",
   "execution_count": 1,
   "id": "1b12bdc8-6929-4688-81a3-8b3ca94f8744",
   "metadata": {},
   "outputs": [],
   "source": [
    "from minio import Minio\n",
    "import random\n",
    "import struct\n",
    "import pandas as pd\n",
    "import boto3\n",
    "import hashlib\n",
    "import gmpy2"
   ]
  },
  {
   "cell_type": "code",
   "execution_count": 2,
   "id": "1342251b-af6a-41ed-9679-ca9055e115b3",
   "metadata": {},
   "outputs": [],
   "source": [
    "#Реализация работы DHT протокола\n",
    "\n",
    "K = 20 # Кол-во ближайших узлов, которые необходимо хранить в таблице маршрутпизатора\n",
    "ALPHA = 3  # Количество узлов, к которым нужно отправлять запросы на каждом шаге\n",
    "\n",
    "# Класс узла Kademlia\n",
    "class Node:\n",
    "    def __init__(self, ip, port):\n",
    "        self.id = bytes.fromhex(hashlib.sha256(str(random.uniform(0, 160)).encode()).hexdigest())[:160 // 8].hex()\n",
    "        self.ip = ip\n",
    "        self.port = port\n",
    "\n",
    "    def get_document_id(self, document_name):\n",
    "        \"\"\"Вычисляет ID документа.\"\"\"\n",
    "        return bytes.fromhex(hashlib.sha256(document_name.encode()).hexdigest())[:160//8].hex()\n",
    "\n",
    "    def distance(self, other_id):\n",
    "        \"\"\"Вычисляет расстояние между двумя узлами (XOR-расстояние идентификаторов).\"\"\"\n",
    "        return int(self.id, 16) ^ int(other_id, 16)\n",
    "\n",
    "# Класс таблицы маршрутизации Kademlia\n",
    "class RoutingTable:\n",
    "    def __init__(self, node):\n",
    "        self.node = node\n",
    "        self.buckets = [[] for _ in range(160)]  # 160 бакетов для 160-битных ID\n",
    "\n",
    "    def add_node(self, node):\n",
    "        \"\"\"Добавляет узел в таблицу маршрутизации.\"\"\"\n",
    "        bucket_index = self._get_bucket_index(node.id)\n",
    "        bucket = self.buckets[bucket_index]\n",
    "        if node not in bucket:\n",
    "            bucket.append(node)\n",
    "            #bucket.sort()  # Сортировка по ID для удобства\n",
    "            self._trim_bucket(bucket)\n",
    "    def remove_node(self, node):\n",
    "        bucket_index = self._get_bucket_index(node.id)\n",
    "        bucket = self.buckets[bucket_index]\n",
    "        if node in bucket:\n",
    "            bucket.pop(bucket.index(node))\n",
    "\n",
    "    def find_closest_nodes(self, target_id, count=K):\n",
    "        \"\"\"Возвращает список самых ближайших узлов к указанному ID.\"\"\"\n",
    "        closest_nodes = []\n",
    "        for bucket in self.buckets:\n",
    "            for node in bucket:\n",
    "                distance = node.distance(target_id)\n",
    "                closest_nodes.append((distance, node))\n",
    "        closest_nodes.sort()\n",
    "        return [node for _, node in closest_nodes[:count]]\n",
    "\n",
    "    def _get_bucket_index(self, node_id):\n",
    "        \"\"\"Возвращает индекс бакета для указанного ID.\"\"\"\n",
    "        return (int(self.node.id, 16) ^ int(node_id, 16)).bit_length() - 1\n",
    "\n",
    "    def _trim_bucket(self, bucket):\n",
    "        \"\"\"Обрезает бакет до максимального количества узлов K.\"\"\"\n",
    "        while len(bucket) > K:\n",
    "            bucket.pop()\n",
    "\n",
    "# Функция для поиска узла, имеющего файл по алгоритму Kademli"
   ]
  },
  {
   "cell_type": "code",
   "execution_count": 14,
   "id": "74c5766f-9594-43d9-b091-3c4d645eac45",
   "metadata": {},
   "outputs": [],
   "source": [
    "class Minio_client:\n",
    "    def __init__(self, ip, access_key, secret_key, port):\n",
    "        self.ip = ip\n",
    "        self.port = port\n",
    "        self.access_key = access_key\n",
    "        self.secret_key = secret_key\n",
    "        self.self_client = boto3.client(\n",
    "    's3',\n",
    "    aws_access_key_id=self.access_key,\n",
    "    aws_secret_access_key=self.secret_key,\n",
    "    endpoint_url='http://{}:{}'.format(self.ip, self.port),\n",
    "    )\n",
    "        self.other_client = boto3.client(\n",
    "    's3',\n",
    "    aws_access_key_id=self.access_key,\n",
    "    aws_secret_access_key=self.secret_key,\n",
    "    endpoint_url='http://{}:{}'.format(self.ip, self.port)\n",
    "    )\n",
    "    \n",
    "    def create_self_bucket(self, bucket_name):\n",
    "        try:\n",
    "            self.self_client.create_bucket(Bucket=bucket_name)\n",
    "            return 'Success!'\n",
    "        except ClientError:\n",
    "            return None\n",
    "            \n",
    "    def remove_self_bucket(self, bucket_name):\n",
    "        objects = self.self_client.list_objects_v2(Bucket=bucket_name)\n",
    "        if (objects['KeyCount'] != 0):\n",
    "            for obj in objects['Contents']:\n",
    "                self.self_client.delete_object(Bucket=bucket_name, Key=obj['Key'])\n",
    "        try:\n",
    "            self.self_client.delete_bucket(Bucket=bucket_name)\n",
    "        except ClientError:\n",
    "            return None\n",
    "            \n",
    "    def get_from_self_bucket(self, bucket_name, file_name):\n",
    "        try:\n",
    "            context = self.self_client.download_file(bucket_name, file_name, file_name)\n",
    "        except ClientError:\n",
    "            context = None\n",
    "        return context\n",
    "    def remove_obj_from_bucket(self, bucket_name, file_name, self_bucket=False):\n",
    "        if (self_bucket):\n",
    "            try:\n",
    "                self.other_client.delete_object(Bucket=bucket_name, Key=file_name)\n",
    "                return \"Success!\"\n",
    "            except ClientError:\n",
    "                return None\n",
    "        else:\n",
    "            try:\n",
    "                self.self_client.delete_object(Bucket=bucket_name, Key=file_name)\n",
    "                return \"Success!\"\n",
    "            except ClientError:\n",
    "                return None\n",
    "                \n",
    "    def put_from_self_bucket(self, bucket_name, file_name):\n",
    "        with open(file_name, \"rb\") as file:\n",
    "            self.self_client.upload_fileobj(file, bucket_name, file_name)\n",
    "        file.close()\n",
    "    \n",
    "    def change_other_client(other_ip, other_access_key, other_secret_key):\n",
    "        self.other_client = boto3.client(\n",
    "            's3',\n",
    "            aws_access_key_id=other_access_key,\n",
    "            aws_secret_access_key=other_secret_key,\n",
    "            endpoint_url='http://{}:9000'.format(self.ip)\n",
    "        )\n",
    "        \n",
    "    def get_from_other_bucket(self, bucket_name, file_name):\n",
    "        try:\n",
    "            context = self.other_client.download_file(bucket_name, file_name, file_name)\n",
    "        except ClientError:\n",
    "            context = None\n",
    "        return context\n",
    "        \n",
    "    def put_from_other_bucket(self, bucket_name, file_name, metadata):\n",
    "        with open(file_name, \"rb\") as file:\n",
    "            self.other_client.upload_fileobj(file, bucket_name, file_name)\n",
    "        file.close()    \n",
    "\n",
    "    # Функция для поиска узла, имеющего файл по алгоритму Kademli\n",
    "    def find_node(current_node, target_id, bucket_name, file_name, lhfile_name):\n",
    "        global routing_table\n",
    "        \"\"\"\n",
    "        Ищет узел с указанным ID в таблице маршрутизации\n",
    "        используя алгоритм Kademlia.\n",
    "    \n",
    "        Args:\n",
    "            current_node: Текущий узел.\n",
    "            routing_table: Таблица маршрутизации текущего узла.\n",
    "            target_id: ID узла, которого нужно найти.\n",
    "    \n",
    "        Returns:\n",
    "            Узел с указанным ID, если найден, иначе None.\n",
    "        \"\"\"\n",
    "    \n",
    "        closest_nodes = routing_table.find_closest_nodes(target_id)\n",
    "        tries = 0\n",
    "        while (tries < 5):\n",
    "            # Выбираем ALPHA узлов из списка самых близких\n",
    "            if len(closest_nodes) != 0:\n",
    "                selected_nodes = closest_nodes[0]\n",
    "    \n",
    "            # Отправляем запросы на поиск узла\n",
    "            change_other_client(closest_nodes.ip, self.access_key, self.secret_key)\n",
    "            if target_id in self.other_client.list_object_v2(Bucket=bucket_name):\n",
    "                self.get_from_other_bucket(bucket_name, file_name)\n",
    "                break\n",
    "            else:\n",
    "                self.get_from_other_bucket(bucket_name, lhfile_name, lhfile_name)\n",
    "                localhosts = pd.read_csv(lhfile_name)\n",
    "                for index in range(len(localhosts)):\n",
    "                    routing_table.add_Node(Node(localhosts['id'][index], localhosts['ip'][index], localhosts['port'][index]))\n",
    "            # Обновляем список самых близких узлов\n",
    "            closest_nodes = routing_table.find_closest_nodes(target_id)\n",
    "    \n",
    "        # Если не найден узел, возвращаем None\n",
    "        return None"
   ]
  },
  {
   "cell_type": "code",
   "execution_count": null,
   "id": "ee15b6c0-8166-4368-887e-61fb5376da81",
   "metadata": {},
   "outputs": [],
   "source": [
    "node = Node('192.168.13.59', 8000)\n",
    "doc_id = node.get_document_id('test') # Работает '9f86d081884c7d659a2feaa0c55ad015a3bf4f1b'\n",
    "distance = node.distance(doc_id)"
   ]
  },
  {
   "cell_type": "code",
   "execution_count": null,
   "id": "cd59df8c-5b76-4c29-86c9-21e1644c108f",
   "metadata": {},
   "outputs": [],
   "source": [
    "node1 = Node('192.168.13.52', 8000)\n",
    "node2 = Node('192.168.13.54', 8000)\n",
    "node3 = Node('192.168.13.53', 8000)\n",
    "node4 = Node('192.168.13.55', 8000)"
   ]
  },
  {
   "cell_type": "code",
   "execution_count": null,
   "id": "04677168-b28d-4165-b821-212b5c16375c",
   "metadata": {},
   "outputs": [],
   "source": [
    "Routing_t = RoutingTable(node)"
   ]
  },
  {
   "cell_type": "code",
   "execution_count": null,
   "id": "7ca9df52-8a22-41c1-a362-a8645c98188f",
   "metadata": {},
   "outputs": [],
   "source": [
    "Routing_t.add_node(node4)"
   ]
  },
  {
   "cell_type": "code",
   "execution_count": null,
   "id": "ce75dbac-fbbc-4923-b9df-5bca851a8fdd",
   "metadata": {},
   "outputs": [],
   "source": [
    "Routing_t.find_closest_nodes(doc_id)"
   ]
  },
  {
   "cell_type": "code",
   "execution_count": null,
   "id": "1083d25f-8ab8-4c0d-9a09-b18c7952b0c9",
   "metadata": {},
   "outputs": [],
   "source": [
    "Routing_t.remove_node(node4)"
   ]
  },
  {
   "cell_type": "code",
   "execution_count": 6,
   "id": "2d287e72-8f65-489f-8747-17acde72723e",
   "metadata": {},
   "outputs": [],
   "source": [
    "client = Minio_client('192.168.13.59', 'AFbT5JtHkDPjsaSwSwzo', 'AvW3kMeQLZgdfbuyosPEQ3EIRCc9Ru5JUQ33tYqX', 8000)"
   ]
  },
  {
   "cell_type": "code",
   "execution_count": 7,
   "id": "c67319df-f204-4f80-92b6-f6815126c561",
   "metadata": {},
   "outputs": [
    {
     "data": {
      "text/plain": [
       "'Success!'"
      ]
     },
     "execution_count": 7,
     "metadata": {},
     "output_type": "execute_result"
    }
   ],
   "source": [
    "client.create_self_bucket(\"new-bucket\")"
   ]
  },
  {
   "cell_type": "code",
   "execution_count": null,
   "id": "5aa315d9-2293-4f22-b691-fbe7f3a1c83d",
   "metadata": {},
   "outputs": [],
   "source": [
    "'http://{}:{}'.format(client.ip, client.port)"
   ]
  },
  {
   "cell_type": "code",
   "execution_count": 19,
   "id": "28bdb0d1-07d4-41f3-afba-1a97b24ebc65",
   "metadata": {},
   "outputs": [],
   "source": [
    "res = client.get_from_self_bucket('mybucket', 'example.txt')"
   ]
  },
  {
   "cell_type": "code",
   "execution_count": 28,
   "id": "707b29f6-8723-4b1f-bffd-21dd6b241317",
   "metadata": {},
   "outputs": [],
   "source": [
    "client.put_from_self_bucket('new-bucket', 'example.txt')"
   ]
  },
  {
   "cell_type": "code",
   "execution_count": null,
   "id": "7ff78b86-2152-41ab-9fd3-097a794e0c07",
   "metadata": {},
   "outputs": [],
   "source": [
    "client.remove_self_bucket('new-bucket')"
   ]
  },
  {
   "cell_type": "code",
   "execution_count": 27,
   "id": "5696bc4c-4451-4610-ba3f-852179e00560",
   "metadata": {},
   "outputs": [
    {
     "data": {
      "text/plain": [
       "'Success!'"
      ]
     },
     "execution_count": 27,
     "metadata": {},
     "output_type": "execute_result"
    }
   ],
   "source": [
    "client.remove_obj_from_bucket('new-bucket', 'example.txt', True)"
   ]
  },
  {
   "cell_type": "code",
   "execution_count": 30,
   "id": "4071e567-d59d-4863-a0e5-620c7b25b834",
   "metadata": {},
   "outputs": [],
   "source": [
    "client.get_from_self_bucket('new-bucket', 'example.txt')"
   ]
  },
  {
   "cell_type": "code",
   "execution_count": 31,
   "id": "92a957d3-e9fc-4ab2-b9a9-20d94447d5a8",
   "metadata": {},
   "outputs": [],
   "source": [
    "client.self_client.download_file('new-bucket', 'example.txt', 'example.txt')"
   ]
  },
  {
   "cell_type": "code",
   "execution_count": 25,
   "id": "89ed7897-0898-4814-a43b-09dc5abbf438",
   "metadata": {},
   "outputs": [
    {
     "name": "stdout",
     "output_type": "stream",
     "text": [
      "True\n"
     ]
    }
   ],
   "source": []
  },
  {
   "cell_type": "code",
   "execution_count": 23,
   "id": "1b00c44f-c124-4d92-bb8f-6c0fb0d0b06f",
   "metadata": {},
   "outputs": [
    {
     "ename": "SyntaxError",
     "evalue": "incomplete input (1500315279.py, line 1)",
     "output_type": "error",
     "traceback": [
      "\u001b[0;36m  Cell \u001b[0;32mIn[23], line 1\u001b[0;36m\u001b[0m\n\u001b[0;31m    if res:\u001b[0m\n\u001b[0m           ^\u001b[0m\n\u001b[0;31mSyntaxError\u001b[0m\u001b[0;31m:\u001b[0m incomplete input\n"
     ]
    }
   ],
   "source": []
  },
  {
   "cell_type": "code",
   "execution_count": null,
   "id": "78b72b2c-db96-4868-9bfc-102b2564d8ad",
   "metadata": {},
   "outputs": [],
   "source": []
  }
 ],
 "metadata": {
  "kernelspec": {
   "display_name": "Python 3 (ipykernel)",
   "language": "python",
   "name": "python3"
  },
  "language_info": {
   "codemirror_mode": {
    "name": "ipython",
    "version": 3
   },
   "file_extension": ".py",
   "mimetype": "text/x-python",
   "name": "python",
   "nbconvert_exporter": "python",
   "pygments_lexer": "ipython3",
   "version": "3.10.12"
  }
 },
 "nbformat": 4,
 "nbformat_minor": 5
}
