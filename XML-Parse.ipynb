{
 "cells": [
  {
   "cell_type": "code",
   "execution_count": 76,
   "metadata": {},
   "outputs": [
    {
     "name": "stdout",
     "output_type": "stream",
     "text": [
      "header\n",
      "title\n",
      "data\n",
      "item\n",
      "item\n",
      "item\n",
      "item\n",
      "item\n",
      "item\n",
      "item\n",
      "item\n",
      "item\n",
      "item\n",
      "item\n",
      "item\n",
      "item\n",
      "item\n",
      "item\n",
      "item\n",
      "item\n",
      "item\n",
      "item\n",
      "item\n",
      "item\n",
      "item\n",
      "XML-файл успешно разделен на 27 составных файлов в каталоге split_files.\n"
     ]
    }
   ],
   "source": [
    "import xml.etree.ElementTree as ET\n",
    "import os\n",
    "\n",
    "def split_xml(input_file, output_dir = 'split_files', max_size=2*1024*1024):\n",
    "    \"\"\"\n",
    "    Разделяет XML-файл на заголовочный и составные файлы размером 2 Мб.\n",
    "\n",
    "    Args:\n",
    "      input_file: Путь к входному XML-файлу.\n",
    "      output_dir: Каталог для сохранения выходных файлов (по умолчанию \"split_files\").\n",
    "    \"\"\"\n",
    "    os.makedirs(output_dir, exist_ok=True)\n",
    "  # Чтение XML-файла\n",
    "    tree = ET.parse(input_file)\n",
    "    root = tree.getroot()\n",
    "\n",
    "  # Создание заголовочного файла\n",
    "    header_file = os.path.join(output_dir, \"header.xml\")\n",
    "    with open(header_file, \"w\") as f:\n",
    "        f.write(f\"  <root>\\n\")\n",
    "    # Вызов функции write_tags для записи тегов\n",
    "        write_tags(root, f)  # Передаем корневой элемент и файл\n",
    "        f.write(f\"  </root>\\n\")\n",
    "\n",
    "  # Создание составных файлов\n",
    "    current_part = 1\n",
    "    current_part_file = os.path.join(output_dir, f\"content_{current_part}.xml\")\n",
    "    for element in root.iter():\n",
    "        element_text = element.text if element.text is not None else ''\n",
    "        current_part_tree = ET.ElementTree(ET.fromstring(f\"<{element.tag}>{element_text}</{element.tag}>\"))\n",
    "        current_part_tree.write(current_part_file, encoding='utf-8', xml_declaration=True)\n",
    "        # Переходим к следующему составному файлу\n",
    "        current_part += 1\n",
    "        current_part_file = os.path.join(output_dir, f\"content_{current_part}.xml\")\n",
    "        \n",
    "\n",
    "    print(f\"XML-файл успешно разделен на {current_part} составных файлов в каталоге {output_dir}.\")\n",
    "\n",
    "# Рекурсивная функция для записи тегов\n",
    "def write_tags(element, file):\n",
    "  \"\"\"\n",
    "  Рекурсивно записывает теги в файл.\n",
    "\n",
    "  Args:\n",
    "    element: Текущий элемент XML.\n",
    "    file: Файл для записи.\n",
    "  \"\"\"\n",
    "  for child in element:\n",
    "    file.write(f\"  <{child.tag}>\\n\")\n",
    "    print(child.tag)\n",
    "    write_tags(child, file)\n",
    "    file.write(f\"  </{child.tag}>\\n\")\n",
    "\n",
    "split_xml('example.xml')"
   ]
  },
  {
   "cell_type": "code",
   "execution_count": null,
   "metadata": {},
   "outputs": [],
   "source": []
  }
 ],
 "metadata": {
  "kernelspec": {
   "display_name": "Python 3",
   "language": "python",
   "name": "python3"
  },
  "language_info": {
   "codemirror_mode": {
    "name": "ipython",
    "version": 3
   },
   "file_extension": ".py",
   "mimetype": "text/x-python",
   "name": "python",
   "nbconvert_exporter": "python",
   "pygments_lexer": "ipython3",
   "version": "3.8.3"
  }
 },
 "nbformat": 4,
 "nbformat_minor": 4
}
